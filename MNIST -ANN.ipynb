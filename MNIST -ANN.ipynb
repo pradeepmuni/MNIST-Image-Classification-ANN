{
 "cells": [
  {
   "cell_type": "markdown",
   "metadata": {},
   "source": [
    "# MNIST Image Classification"
   ]
  },
  {
   "cell_type": "markdown",
   "metadata": {},
   "source": [
    "MNIST (\"Modified National Institute of Standards and Technology\") is the de facto “Hello World” dataset of computer vision. Since its release in 1999, this classic dataset of handwritten images has served as the basis for benchmarking classification algorithms. As new machine learning techniques emerge, MNIST remains a reliable resource for researchers and learners alike.\n",
    "\n",
    "In this classification, we aim to correctly identify digits from a dataset of tens of thousands of handwritten images."
   ]
  },
  {
   "cell_type": "markdown",
   "metadata": {},
   "source": [
    "# Import the Libraries"
   ]
  },
  {
   "cell_type": "code",
   "execution_count": 1,
   "metadata": {},
   "outputs": [],
   "source": [
    "import torch\n",
    "import numpy as np\n",
    "import pandas as pd\n",
    "import matplotlib.pyplot as plt\n",
    "import torch.nn as nn\n",
    "import torch.nn.functional as F"
   ]
  },
  {
   "cell_type": "markdown",
   "metadata": {},
   "source": [
    "## Loading the Dataset from TorchVision"
   ]
  },
  {
   "cell_type": "code",
   "execution_count": 2,
   "metadata": {},
   "outputs": [],
   "source": [
    "from torchvision import datasets, transforms\n",
    "transform = transforms.ToTensor()"
   ]
  },
  {
   "cell_type": "code",
   "execution_count": 3,
   "metadata": {},
   "outputs": [
    {
     "data": {
      "text/plain": [
       "Dataset MNIST\n",
       "    Number of datapoints: 60000\n",
       "    Root location: \n",
       "    Split: Train\n",
       "    StandardTransform\n",
       "Transform: ToTensor()"
      ]
     },
     "execution_count": 3,
     "metadata": {},
     "output_type": "execute_result"
    }
   ],
   "source": [
    "train_data = datasets.MNIST(root='', train=True, download=True, transform=transform)\n",
    "train_data"
   ]
  },
  {
   "cell_type": "code",
   "execution_count": 4,
   "metadata": {
    "scrolled": true
   },
   "outputs": [
    {
     "data": {
      "text/plain": [
       "Dataset MNIST\n",
       "    Number of datapoints: 10000\n",
       "    Root location: \n",
       "    Split: Test\n",
       "    StandardTransform\n",
       "Transform: ToTensor()"
      ]
     },
     "execution_count": 4,
     "metadata": {},
     "output_type": "execute_result"
    }
   ],
   "source": [
    "test_data = datasets.MNIST(root='', train=False, download=True, transform=transform)\n",
    "test_data"
   ]
  },
  {
   "cell_type": "code",
   "execution_count": 5,
   "metadata": {},
   "outputs": [
    {
     "name": "stdout",
     "output_type": "stream",
     "text": [
      "Shape: torch.Size([1, 28, 28]) \n",
      "Label: 5\n"
     ]
    }
   ],
   "source": [
    "image, label = train_data[0]\n",
    "print('Shape:', image.shape, '\\nLabel:', label)"
   ]
  },
  {
   "cell_type": "code",
   "execution_count": 6,
   "metadata": {},
   "outputs": [
    {
     "data": {
      "text/plain": [
       "<matplotlib.image.AxesImage at 0x2c9e3f4b588>"
      ]
     },
     "execution_count": 6,
     "metadata": {},
     "output_type": "execute_result"
    },
    {
     "data": {
      "image/png": "[encoded data removed]",
      "text/plain": [
       "<Figure size 432x288 with 1 Axes>"
      ]
     },
     "metadata": {
      "needs_background": "light"
     },
     "output_type": "display_data"
    }
   ],
   "source": [
    "plt.imshow(train_data[0][0].reshape(28,28))"
   ]
  },
  {
   "cell_type": "markdown",
   "metadata": {},
   "source": [
    "# Data Loading Strategy"
   ]
  },
  {
   "cell_type": "markdown",
   "metadata": {},
   "source": [
    "As there are more than 30k rows its not wise to feed all the data once into the ANN model. Instead we will try to feed the data in batches to the model using Dataset and DataLoader feature of Torch library"
   ]
  },
  {
   "cell_type": "code",
   "execution_count": 7,
   "metadata": {},
   "outputs": [],
   "source": [
    "from torch.utils.data import TensorDataset, DataLoader"
   ]
  },
  {
   "cell_type": "code",
   "execution_count": 8,
   "metadata": {},
   "outputs": [],
   "source": [
    "#Initializing a dataloader object which splits the training dataset into small batches of 500 records each\n",
    "#and this can be used later in the ANN model training \n",
    "torch.manual_seed(101)\n",
    "train_loader = DataLoader(train_data,batch_size=500,shuffle=True)\n",
    "test_loader = DataLoader(test_data,batch_size=500,shuffle=True)"
   ]
  },
  {
   "cell_type": "markdown",
   "metadata": {},
   "source": [
    "# Define the ANN Model"
   ]
  },
  {
   "cell_type": "code",
   "execution_count": 9,
   "metadata": {},
   "outputs": [],
   "source": [
    "class SimpleANN(nn.Module):\n",
    "    \n",
    "    def __init__(self,inp=784, op=10, layers=[120,90] ):\n",
    "        \n",
    "        super().__init__()\n",
    "        self.layer1 = nn.Linear(inp,layers[0])\n",
    "        self.layer2 = nn.Linear(layers[0],layers[1])\n",
    "        self.layer3 = nn.Linear(layers[1],op)\n",
    "        \n",
    "    def forward(self,x):\n",
    "        \n",
    "        x= F.relu(self.layer1(x))\n",
    "        x= F.relu(self.layer2(x))\n",
    "        x= F.softmax(self.layer3(x),dim=1) #multiclass classificaiton\n",
    "        \n",
    "        return x\n",
    "    "
   ]
  },
  {
   "cell_type": "code",
   "execution_count": 10,
   "metadata": {
    "scrolled": true
   },
   "outputs": [
    {
     "data": {
      "text/plain": [
       "SimpleANN(\n",
       "  (layer1): Linear(in_features=784, out_features=120, bias=True)\n",
       "  (layer2): Linear(in_features=120, out_features=90, bias=True)\n",
       "  (layer3): Linear(in_features=90, out_features=10, bias=True)\n",
       ")"
      ]
     },
     "execution_count": 10,
     "metadata": {},
     "output_type": "execute_result"
    }
   ],
   "source": [
    "torch.manual_seed(101)\n",
    "model = SimpleANN()\n",
    "model"
   ]
  },
  {
   "cell_type": "markdown",
   "metadata": {},
   "source": [
    "# Define Loss and Optimizer"
   ]
  },
  {
   "cell_type": "code",
   "execution_count": 11,
   "metadata": {},
   "outputs": [],
   "source": [
    "criterion = nn.CrossEntropyLoss()\n",
    "optimizer = torch.optim.Adam(model.parameters(),lr=0.001)"
   ]
  },
  {
   "cell_type": "markdown",
   "metadata": {},
   "source": [
    "# Training the ANN Model"
   ]
  },
  {
   "cell_type": "code",
   "execution_count": 12,
   "metadata": {
    "scrolled": true
   },
   "outputs": [
    {
     "name": "stdout",
     "output_type": "stream",
     "text": [
      "\n",
      "Artificial Neural Network Model Metrics:\n",
      "\n",
      "Epoch 0 Batch   30 loss:  1.94 Train Accuracy: 42.420%\n",
      "Epoch 0 Batch   60 loss:  1.71 Train Accuracy: 57.083%\n",
      "Epoch 0 Batch   90 loss:  1.71 Train Accuracy: 65.042%\n",
      "Epoch 0 Batch  120 loss:  1.64 Train Accuracy: 69.450%\n",
      "After 1 Epoch the Train Accuracy is 69.450% and Test Accuracy is 83.580% \n",
      "\n",
      "Epoch 1 Batch   30 loss:  1.64 Train Accuracy: 83.167%\n",
      "Epoch 1 Batch   60 loss:  1.64 Train Accuracy: 83.580%\n",
      "Epoch 1 Batch   90 loss:  1.63 Train Accuracy: 83.680%\n",
      "Epoch 1 Batch  120 loss:  1.62 Train Accuracy: 83.778%\n",
      "After 2 Epoch the Train Accuracy is 83.778% and Test Accuracy is 84.620% \n",
      "\n",
      "Epoch 2 Batch   30 loss:  1.64 Train Accuracy: 84.667%\n",
      "Epoch 2 Batch   60 loss:  1.62 Train Accuracy: 84.743%\n",
      "Epoch 2 Batch   90 loss:  1.63 Train Accuracy: 84.727%\n",
      "Epoch 2 Batch  120 loss:  1.64 Train Accuracy: 84.705%\n",
      "After 3 Epoch the Train Accuracy is 84.705% and Test Accuracy is 84.780% \n",
      "\n",
      "Epoch 3 Batch   30 loss:  1.61 Train Accuracy: 85.473%\n",
      "Epoch 3 Batch   60 loss:  1.59 Train Accuracy: 85.453%\n",
      "Epoch 3 Batch   90 loss:  1.62 Train Accuracy: 85.442%\n",
      "Epoch 3 Batch  120 loss:  1.62 Train Accuracy: 85.453%\n",
      "After 4 Epoch the Train Accuracy is 85.453% and Test Accuracy is 85.460% \n",
      "\n",
      "Epoch 4 Batch   30 loss:  1.60 Train Accuracy: 86.007%\n",
      "Epoch 4 Batch   60 loss:  1.62 Train Accuracy: 85.827%\n",
      "Epoch 4 Batch   90 loss:  1.60 Train Accuracy: 85.860%\n",
      "Epoch 4 Batch  120 loss:  1.61 Train Accuracy: 85.888%\n",
      "After 5 Epoch the Train Accuracy is 85.888% and Test Accuracy is 85.950% \n",
      "\n",
      "Epoch 5 Batch   30 loss:  1.61 Train Accuracy: 86.340%\n",
      "Epoch 5 Batch   60 loss:  1.57 Train Accuracy: 86.390%\n",
      "Epoch 5 Batch   90 loss:  1.59 Train Accuracy: 86.547%\n",
      "Epoch 5 Batch  120 loss:  1.61 Train Accuracy: 86.397%\n",
      "After 6 Epoch the Train Accuracy is 86.397% and Test Accuracy is 86.340% \n",
      "\n",
      "Epoch 6 Batch   30 loss:  1.60 Train Accuracy: 86.920%\n",
      "Epoch 6 Batch   60 loss:  1.56 Train Accuracy: 86.887%\n",
      "Epoch 6 Batch   90 loss:  1.58 Train Accuracy: 86.711%\n",
      "Epoch 6 Batch  120 loss:  1.60 Train Accuracy: 86.720%\n",
      "After 7 Epoch the Train Accuracy is 86.720% and Test Accuracy is 86.700% \n",
      "\n",
      "Epoch 7 Batch   30 loss:  1.59 Train Accuracy: 87.027%\n",
      "Epoch 7 Batch   60 loss:  1.59 Train Accuracy: 87.247%\n",
      "Epoch 7 Batch   90 loss:  1.56 Train Accuracy: 87.111%\n",
      "Epoch 7 Batch  120 loss:  1.58 Train Accuracy: 86.992%\n",
      "After 8 Epoch the Train Accuracy is 86.992% and Test Accuracy is 87.000% \n",
      "\n",
      "Epoch 8 Batch   30 loss:  1.58 Train Accuracy: 87.740%\n",
      "Epoch 8 Batch   60 loss:  1.59 Train Accuracy: 87.323%\n",
      "Epoch 8 Batch   90 loss:  1.59 Train Accuracy: 87.373%\n",
      "Epoch 8 Batch  120 loss:  1.59 Train Accuracy: 87.338%\n",
      "After 9 Epoch the Train Accuracy is 87.338% and Test Accuracy is 86.840% \n",
      "\n",
      "Epoch 9 Batch   30 loss:  1.59 Train Accuracy: 87.327%\n",
      "Epoch 9 Batch   60 loss:  1.58 Train Accuracy: 87.470%\n",
      "Epoch 9 Batch   90 loss:  1.52 Train Accuracy: 87.716%\n",
      "Epoch 9 Batch  120 loss:  1.51 Train Accuracy: 89.493%\n",
      "After 10 Epoch the Train Accuracy is 89.493% and Test Accuracy is 94.940% \n",
      "\n",
      "Epoch10 Batch   30 loss:  1.51 Train Accuracy: 96.007%\n",
      "Epoch10 Batch   60 loss:  1.50 Train Accuracy: 95.927%\n",
      "Epoch10 Batch   90 loss:  1.51 Train Accuracy: 95.947%\n",
      "Epoch10 Batch  120 loss:  1.51 Train Accuracy: 96.007%\n",
      "After 11 Epoch the Train Accuracy is 96.007% and Test Accuracy is 95.750% \n",
      "\n",
      "Epoch11 Batch   30 loss:  1.51 Train Accuracy: 96.453%\n",
      "Epoch11 Batch   60 loss:  1.49 Train Accuracy: 96.463%\n",
      "Epoch11 Batch   90 loss:  1.50 Train Accuracy: 96.458%\n",
      "Epoch11 Batch  120 loss:  1.51 Train Accuracy: 96.582%\n",
      "After 12 Epoch the Train Accuracy is 96.582% and Test Accuracy is 96.040% \n",
      "\n",
      "Epoch12 Batch   30 loss:  1.50 Train Accuracy: 96.947%\n",
      "Epoch12 Batch   60 loss:  1.50 Train Accuracy: 96.903%\n",
      "Epoch12 Batch   90 loss:  1.50 Train Accuracy: 96.993%\n",
      "Epoch12 Batch  120 loss:  1.50 Train Accuracy: 97.048%\n",
      "After 13 Epoch the Train Accuracy is 97.048% and Test Accuracy is 96.400% \n",
      "\n",
      "Epoch13 Batch   30 loss:  1.49 Train Accuracy: 97.300%\n",
      "Epoch13 Batch   60 loss:  1.48 Train Accuracy: 97.407%\n",
      "Epoch13 Batch   90 loss:  1.49 Train Accuracy: 97.353%\n",
      "Epoch13 Batch  120 loss:  1.49 Train Accuracy: 97.312%\n",
      "After 14 Epoch the Train Accuracy is 97.312% and Test Accuracy is 96.500% \n",
      "\n",
      "Epoch14 Batch   30 loss:  1.49 Train Accuracy: 97.393%\n",
      "Epoch14 Batch   60 loss:  1.50 Train Accuracy: 97.483%\n",
      "Epoch14 Batch   90 loss:  1.49 Train Accuracy: 97.489%\n",
      "Epoch14 Batch  120 loss:  1.49 Train Accuracy: 97.508%\n",
      "After 15 Epoch the Train Accuracy is 97.508% and Test Accuracy is 96.540% \n",
      "\n",
      "Epoch15 Batch   30 loss:  1.49 Train Accuracy: 97.767%\n",
      "Epoch15 Batch   60 loss:  1.48 Train Accuracy: 97.720%\n",
      "Epoch15 Batch   90 loss:  1.49 Train Accuracy: 97.720%\n",
      "Epoch15 Batch  120 loss:  1.49 Train Accuracy: 97.662%\n",
      "After 16 Epoch the Train Accuracy is 97.662% and Test Accuracy is 96.760% \n",
      "\n",
      "Epoch16 Batch   30 loss:  1.49 Train Accuracy: 97.660%\n",
      "Epoch16 Batch   60 loss:  1.48 Train Accuracy: 97.743%\n",
      "Epoch16 Batch   90 loss:  1.48 Train Accuracy: 97.796%\n",
      "Epoch16 Batch  120 loss:  1.49 Train Accuracy: 97.812%\n",
      "After 17 Epoch the Train Accuracy is 97.812% and Test Accuracy is 96.750% \n",
      "\n",
      "Epoch17 Batch   30 loss:  1.48 Train Accuracy: 97.967%\n",
      "Epoch17 Batch   60 loss:  1.48 Train Accuracy: 98.057%\n",
      "Epoch17 Batch   90 loss:  1.48 Train Accuracy: 98.038%\n",
      "Epoch17 Batch  120 loss:  1.48 Train Accuracy: 98.015%\n",
      "After 18 Epoch the Train Accuracy is 98.015% and Test Accuracy is 96.980% \n",
      "\n",
      "Epoch18 Batch   30 loss:  1.48 Train Accuracy: 98.147%\n",
      "Epoch18 Batch   60 loss:  1.49 Train Accuracy: 98.160%\n",
      "Epoch18 Batch   90 loss:  1.48 Train Accuracy: 98.189%\n",
      "Epoch18 Batch  120 loss:  1.49 Train Accuracy: 98.118%\n",
      "After 19 Epoch the Train Accuracy is 98.118% and Test Accuracy is 97.130% \n",
      "\n",
      "Epoch19 Batch   30 loss:  1.47 Train Accuracy: 98.233%\n",
      "Epoch19 Batch   60 loss:  1.48 Train Accuracy: 98.217%\n",
      "Epoch19 Batch   90 loss:  1.47 Train Accuracy: 98.262%\n",
      "Epoch19 Batch  120 loss:  1.48 Train Accuracy: 98.213%\n",
      "After 20 Epoch the Train Accuracy is 98.213% and Test Accuracy is 96.980% \n",
      "\n"
     ]
    }
   ],
   "source": [
    "epochs = 20\n",
    "train_loss= []\n",
    "test_loss= []\n",
    "train_acc=[]\n",
    "test_acc = []\n",
    "\n",
    "print(f'\\nArtificial Neural Network Model Metrics:\\n')\n",
    "for i in range(epochs):\n",
    "    \n",
    "    train_crt_pred = 0\n",
    "    test_crt_pred = 0\n",
    "    \n",
    "    for b,(x_train,y_train) in enumerate (train_loader):\n",
    "        b += 1\n",
    "        y_pred = model.forward(x_train.view(500,-1))\n",
    "        loss= criterion(y_pred,y_train)\n",
    "        \n",
    "        buffer = torch.max(y_pred.data, 1) [1]\n",
    "        batch_acc = (buffer == y_train).sum()\n",
    "        train_crt_pred +=  batch_acc\n",
    "        \n",
    "        optimizer.zero_grad()\n",
    "        loss.backward()\n",
    "        optimizer.step()\n",
    "                \n",
    "        if b%30 == 0:\n",
    "            print(f'Epoch{i:2} Batch {b:4} loss: {loss.item():5.2f} Train Accuracy: {train_crt_pred.item()*100/(500*b):6.3f}%')\n",
    "    \n",
    "    train_loss.append(loss)\n",
    "    train_acc.append(train_crt_pred)\n",
    "    \n",
    "    \n",
    "    with torch.no_grad():\n",
    "        for b,(x_test,y_test) in enumerate (test_loader):\n",
    "            b += 1\n",
    "            y_eval = model.forward(x_test.view(500,-1))\n",
    "            loss= criterion(y_eval,y_test)\n",
    "            buffer1 = torch.max(y_eval.data, 1) [1]\n",
    "            batch_acc = (buffer1 == y_test).sum()\n",
    "            test_crt_pred +=  batch_acc\n",
    "    \n",
    "    test_loss.append(loss)\n",
    "    test_acc.append(test_crt_pred)\n",
    "\n",
    "    print(f'After {i+1} Epoch the Train Accuracy is {(train_crt_pred.item()/60000)*100:6.3f}% and Test Accuracy is {(test_crt_pred.item()/10000)*100:6.3f}% \\n')     \n",
    "    \n",
    "        "
   ]
  },
  {
   "cell_type": "markdown",
   "metadata": {},
   "source": [
    "# Accuracy Visualization"
   ]
  },
  {
   "cell_type": "code",
   "execution_count": 44,
   "metadata": {},
   "outputs": [
    {
     "data": {
      "image/png": "[encoded data removed]",
      "text/plain": [
       "<Figure size 1080x504 with 1 Axes>"
      ]
     },
     "metadata": {
      "needs_background": "light"
     },
     "output_type": "display_data"
    }
   ],
   "source": [
    "plt.figure(figsize=(15,7))\n",
    "plt.plot([t/600 for t in train_acc], label='Train score',marker='o',alpha=0.8)\n",
    "plt.plot([t/100 for t in test_acc], label='Test score',marker='o')\n",
    "plt.title('\\nTrain Vs Test Accuracy over Epochs\\n',fontsize=16)\n",
    "plt.xticks(np.arange(0,20,1));\n",
    "plt.xlabel('Epochs',fontsize=14)\n",
    "plt.ylabel('Accuracy Metrics',fontsize=14)\n",
    "plt.legend();"
   ]
  },
  {
   "cell_type": "code",
   "execution_count": 45,
   "metadata": {},
   "outputs": [
    {
     "data": {
      "image/png": "[encoded data removed]",
      "text/plain": [
       "<Figure size 1080x504 with 1 Axes>"
      ]
     },
     "metadata": {
      "needs_background": "light"
     },
     "output_type": "display_data"
    }
   ],
   "source": [
    "plt.figure(figsize=(15,7))\n",
    "plt.plot([t for t in test_loss], label='Test Loss',marker='o',alpha=0.8)\n",
    "plt.plot([t for t in train_loss], label='Train Loss',marker='o')\n",
    "plt.title('\\nTrain Vs Test Loss over Epochs\\n',fontsize=16)\n",
    "plt.xticks(np.arange(0,20,1));\n",
    "plt.xlabel('Epochs',fontsize=14)\n",
    "plt.ylabel('Loss Metrics',fontsize=14)\n",
    "plt.legend();"
   ]
  },
  {
   "cell_type": "code",
   "execution_count": 46,
   "metadata": {},
   "outputs": [],
   "source": [
    "torch.save(model.state_dict(), 'MNIST_ANN.pt')"
   ]
  },
  {
   "cell_type": "code",
   "execution_count": null,
   "metadata": {},
   "outputs": [],
   "source": []
  },
  {
   "cell_type": "code",
   "execution_count": null,
   "metadata": {},
   "outputs": [],
   "source": []
  },
  {
   "cell_type": "code",
   "execution_count": null,
   "metadata": {},
   "outputs": [],
   "source": []
  },
  {
   "cell_type": "code",
   "execution_count": null,
   "metadata": {},
   "outputs": [],
   "source": []
  },
  {
   "cell_type": "code",
   "execution_count": null,
   "metadata": {},
   "outputs": [],
   "source": []
  },
  {
   "cell_type": "code",
   "execution_count": null,
   "metadata": {},
   "outputs": [],
   "source": []
  },
  {
   "cell_type": "code",
   "execution_count": null,
   "metadata": {},
   "outputs": [],
   "source": []
  },
  {
   "cell_type": "code",
   "execution_count": null,
   "metadata": {},
   "outputs": [],
   "source": []
  },
  {
   "cell_type": "code",
   "execution_count": null,
   "metadata": {},
   "outputs": [],
   "source": []
  },
  {
   "cell_type": "code",
   "execution_count": null,
   "metadata": {},
   "outputs": [],
   "source": []
  },
  {
   "cell_type": "code",
   "execution_count": null,
   "metadata": {},
   "outputs": [],
   "source": []
  },
  {
   "cell_type": "code",
   "execution_count": null,
   "metadata": {},
   "outputs": [],
   "source": []
  },
  {
   "cell_type": "code",
   "execution_count": null,
   "metadata": {},
   "outputs": [],
   "source": []
  },
  {
   "cell_type": "code",
   "execution_count": null,
   "metadata": {},
   "outputs": [],
   "source": []
  },
  {
   "cell_type": "code",
   "execution_count": null,
   "metadata": {},
   "outputs": [],
   "source": []
  },
  {
   "cell_type": "code",
   "execution_count": null,
   "metadata": {},
   "outputs": [],
   "source": []
  },
  {
   "cell_type": "code",
   "execution_count": null,
   "metadata": {},
   "outputs": [],
   "source": []
  },
  {
   "cell_type": "code",
   "execution_count": null,
   "metadata": {},
   "outputs": [],
   "source": []
  },
  {
   "cell_type": "code",
   "execution_count": null,
   "metadata": {},
   "outputs": [],
   "source": []
  },
  {
   "cell_type": "code",
   "execution_count": null,
   "metadata": {},
   "outputs": [],
   "source": []
  },
  {
   "cell_type": "code",
   "execution_count": null,
   "metadata": {},
   "outputs": [],
   "source": []
  },
  {
   "cell_type": "code",
   "execution_count": null,
   "metadata": {},
   "outputs": [],
   "source": []
  },
  {
   "cell_type": "code",
   "execution_count": null,
   "metadata": {},
   "outputs": [],
   "source": []
  },
  {
   "cell_type": "code",
   "execution_count": null,
   "metadata": {},
   "outputs": [],
   "source": []
  },
  {
   "cell_type": "code",
   "execution_count": null,
   "metadata": {},
   "outputs": [],
   "source": []
  },
  {
   "cell_type": "code",
   "execution_count": null,
   "metadata": {},
   "outputs": [],
   "source": []
  },
  {
   "cell_type": "code",
   "execution_count": null,
   "metadata": {},
   "outputs": [],
   "source": []
  },
  {
   "cell_type": "code",
   "execution_count": null,
   "metadata": {},
   "outputs": [],
   "source": []
  },
  {
   "cell_type": "code",
   "execution_count": null,
   "metadata": {},
   "outputs": [],
   "source": []
  },
  {
   "cell_type": "code",
   "execution_count": null,
   "metadata": {},
   "outputs": [],
   "source": []
  },
  {
   "cell_type": "code",
   "execution_count": null,
   "metadata": {},
   "outputs": [],
   "source": []
  },
  {
   "cell_type": "code",
   "execution_count": null,
   "metadata": {},
   "outputs": [],
   "source": []
  },
  {
   "cell_type": "code",
   "execution_count": null,
   "metadata": {},
   "outputs": [],
   "source": []
  },
  {
   "cell_type": "code",
   "execution_count": null,
   "metadata": {},
   "outputs": [],
   "source": []
  },
  {
   "cell_type": "code",
   "execution_count": null,
   "metadata": {},
   "outputs": [],
   "source": []
  },
  {
   "cell_type": "code",
   "execution_count": null,
   "metadata": {},
   "outputs": [],
   "source": []
  },
  {
   "cell_type": "code",
   "execution_count": null,
   "metadata": {},
   "outputs": [],
   "source": []
  },
  {
   "cell_type": "code",
   "execution_count": null,
   "metadata": {},
   "outputs": [],
   "source": []
  },
  {
   "cell_type": "code",
   "execution_count": null,
   "metadata": {},
   "outputs": [],
   "source": []
  },
  {
   "cell_type": "code",
   "execution_count": null,
   "metadata": {},
   "outputs": [],
   "source": []
  },
  {
   "cell_type": "code",
   "execution_count": null,
   "metadata": {},
   "outputs": [],
   "source": []
  },
  {
   "cell_type": "code",
   "execution_count": null,
   "metadata": {},
   "outputs": [],
   "source": []
  },
  {
   "cell_type": "code",
   "execution_count": null,
   "metadata": {},
   "outputs": [],
   "source": []
  },
  {
   "cell_type": "code",
   "execution_count": null,
   "metadata": {},
   "outputs": [],
   "source": []
  },
  {
   "cell_type": "code",
   "execution_count": null,
   "metadata": {},
   "outputs": [],
   "source": []
  },
  {
   "cell_type": "code",
   "execution_count": null,
   "metadata": {},
   "outputs": [],
   "source": []
  },
  {
   "cell_type": "code",
   "execution_count": null,
   "metadata": {},
   "outputs": [],
   "source": []
  },
  {
   "cell_type": "code",
   "execution_count": null,
   "metadata": {},
   "outputs": [],
   "source": []
  },
  {
   "cell_type": "code",
   "execution_count": null,
   "metadata": {},
   "outputs": [],
   "source": []
  },
  {
   "cell_type": "code",
   "execution_count": null,
   "metadata": {},
   "outputs": [],
   "source": []
  },
  {
   "cell_type": "code",
   "execution_count": null,
   "metadata": {},
   "outputs": [],
   "source": []
  },
  {
   "cell_type": "code",
   "execution_count": null,
   "metadata": {},
   "outputs": [],
   "source": []
  },
  {
   "cell_type": "code",
   "execution_count": null,
   "metadata": {},
   "outputs": [],
   "source": []
  },
  {
   "cell_type": "code",
   "execution_count": null,
   "metadata": {},
   "outputs": [],
   "source": []
  },
  {
   "cell_type": "code",
   "execution_count": null,
   "metadata": {},
   "outputs": [],
   "source": []
  }
 ],
 "metadata": {
  "kernelspec": {
   "display_name": "Python 3",
   "language": "python",
   "name": "python3"
  },
  "language_info": {
   "codemirror_mode": {
    "name": "ipython",
    "version": 3
   },
   "file_extension": ".py",
   "mimetype": "text/x-python",
   "name": "python",
   "nbconvert_exporter": "python",
   "pygments_lexer": "ipython3",
   "version": "3.7.3"
  }
 },
 "nbformat": 4,
 "nbformat_minor": 2
}
